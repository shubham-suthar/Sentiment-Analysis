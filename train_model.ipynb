{
  "cells": [
    {
      "metadata": {
        "trusted": true
      },
      "cell_type": "code",
      "source": "import numpy as np \nimport pandas as pd \n\nfrom sklearn.feature_extraction.text import CountVectorizer\nfrom keras.preprocessing.text import Tokenizer\nfrom keras.preprocessing.sequence import pad_sequences\nfrom keras.models import Sequential\nfrom keras.layers import Dense, Embedding, LSTM, SpatialDropout1D\nfrom sklearn.model_selection import train_test_split\nfrom keras.utils.np_utils import to_categorical\nimport re",
      "execution_count": 1,
      "outputs": [
        {
          "output_type": "stream",
          "text": "Using TensorFlow backend.\n",
          "name": "stderr"
        }
      ]
    },
    {
      "metadata": {
        "trusted": true
      },
      "cell_type": "code",
      "source": "#data = pd.read_table('yelp_labelled.txt', names=('text', 'sentiment'))\n#data = data.applymap(str)\ndata = pd.read_csv('Tweets.csv') #read data\nlist(data.columns) #list of features\nprint(data)\ndata = data[['text','airline_sentiment']] #keep only neccessary features",
      "execution_count": 2,
      "outputs": [
        {
          "output_type": "stream",
          "text": "                 tweet_id airline_sentiment  airline_sentiment_confidence  \\\n0      570306133677760513           neutral                        1.0000   \n1      570301130888122368          positive                        0.3486   \n2      570301083672813571           neutral                        0.6837   \n3      570301031407624196          negative                        1.0000   \n4      570300817074462722          negative                        1.0000   \n5      570300767074181121          negative                        1.0000   \n6      570300616901320704          positive                        0.6745   \n7      570300248553349120           neutral                        0.6340   \n8      570299953286942721          positive                        0.6559   \n9      570295459631263746          positive                        1.0000   \n10     570294189143031808           neutral                        0.6769   \n11     570289724453216256          positive                        1.0000   \n12     570289584061480960          positive                        1.0000   \n13     570287408438120448          positive                        0.6451   \n14     570285904809598977          positive                        1.0000   \n15     570282469121007616          negative                        0.6842   \n16     570277724385734656          positive                        1.0000   \n17     570276917301137409          negative                        1.0000   \n18     570270684619923457          positive                        1.0000   \n19     570267956648792064          positive                        1.0000   \n20     570265883513384960          negative                        0.6705   \n21     570264145116819457          positive                        1.0000   \n22     570259420287868928          positive                        1.0000   \n23     570258822297579520           neutral                        1.0000   \n24     570256553502068736          negative                        1.0000   \n25     570249102404923392          negative                        1.0000   \n26     570239632807370753          negative                        1.0000   \n27     570217831557677057           neutral                        0.6854   \n28     570207886493782019          negative                        1.0000   \n29     570124596180955136           neutral                        0.6150   \n...                   ...               ...                           ...   \n14610  569591765793165312          negative                        1.0000   \n14611  569591730506371072           neutral                        1.0000   \n14612  569591700416393216          negative                        1.0000   \n14613  569591653121597440          negative                        1.0000   \n14614  569591540944756737          negative                        1.0000   \n14615  569591533617307648          negative                        1.0000   \n14616  569591393540288512          negative                        1.0000   \n14617  569591285150908416          positive                        1.0000   \n14618  569591136534319105          negative                        1.0000   \n14619  569590988395708416          positive                        1.0000   \n14620  569590965880532993          negative                        1.0000   \n14621  569590892085915649          negative                        1.0000   \n14622  569590191758962688          negative                        1.0000   \n14623  569590013278756865          positive                        0.6274   \n14624  569589959088173056          negative                        1.0000   \n14625  569589643487928321          positive                        1.0000   \n14626  569589460226183168          negative                        1.0000   \n14627  569588816438169600          negative                        1.0000   \n14628  569588651925098496          positive                        1.0000   \n14629  569588591602458624          negative                        1.0000   \n14630  569588473050611712          positive                        1.0000   \n14631  569588464896876545          negative                        1.0000   \n14632  569587813856841728           neutral                        0.6760   \n14633  569587705937600512          negative                        1.0000   \n14634  569587691626622976          negative                        0.6684   \n14635  569587686496825344          positive                        0.3487   \n14636  569587371693355008          negative                        1.0000   \n14637  569587242672398336           neutral                        1.0000   \n14638  569587188687634433          negative                        1.0000   \n14639  569587140490866689           neutral                        0.6771   \n\n               negativereason  negativereason_confidence         airline  \\\n0                         NaN                        NaN  Virgin America   \n1                         NaN                     0.0000  Virgin America   \n2                         NaN                        NaN  Virgin America   \n3                  Bad Flight                     0.7033  Virgin America   \n4                  Can't Tell                     1.0000  Virgin America   \n5                  Can't Tell                     0.6842  Virgin America   \n6                         NaN                     0.0000  Virgin America   \n7                         NaN                        NaN  Virgin America   \n8                         NaN                        NaN  Virgin America   \n9                         NaN                        NaN  Virgin America   \n10                        NaN                     0.0000  Virgin America   \n11                        NaN                        NaN  Virgin America   \n12                        NaN                        NaN  Virgin America   \n13                        NaN                        NaN  Virgin America   \n14                        NaN                        NaN  Virgin America   \n15                Late Flight                     0.3684  Virgin America   \n16                        NaN                        NaN  Virgin America   \n17                 Bad Flight                     1.0000  Virgin America   \n18                        NaN                        NaN  Virgin America   \n19                        NaN                        NaN  Virgin America   \n20                 Can't Tell                     0.3614  Virgin America   \n21                        NaN                        NaN  Virgin America   \n22                        NaN                        NaN  Virgin America   \n23                        NaN                        NaN  Virgin America   \n24     Customer Service Issue                     0.3557  Virgin America   \n25     Customer Service Issue                     1.0000  Virgin America   \n26                 Can't Tell                     0.6614  Virgin America   \n27                        NaN                        NaN  Virgin America   \n28                 Bad Flight                     1.0000  Virgin America   \n29                        NaN                     0.0000  Virgin America   \n...                       ...                        ...             ...   \n14610               longlines                     0.6788        American   \n14611                     NaN                        NaN        American   \n14612        Cancelled Flight                     0.6333        American   \n14613  Customer Service Issue                     0.7255        American   \n14614  Customer Service Issue                     1.0000        American   \n14615        Cancelled Flight                     1.0000        American   \n14616        Cancelled Flight                     1.0000        American   \n14617                     NaN                        NaN        American   \n14618              Bad Flight                     0.6774        American   \n14619                     NaN                        NaN        American   \n14620  Customer Service Issue                     1.0000        American   \n14621  Customer Service Issue                     1.0000        American   \n14622             Late Flight                     0.3358        American   \n14623                     NaN                     0.0000        American   \n14624              Can't Tell                     1.0000        American   \n14625                     NaN                        NaN        American   \n14626             Late Flight                     1.0000        American   \n14627        Cancelled Flight                     1.0000        American   \n14628                     NaN                        NaN        American   \n14629  Customer Service Issue                     1.0000        American   \n14630                     NaN                        NaN        American   \n14631              Bad Flight                     1.0000        American   \n14632                     NaN                     0.0000        American   \n14633        Cancelled Flight                     1.0000        American   \n14634             Late Flight                     0.6684        American   \n14635                     NaN                     0.0000        American   \n14636  Customer Service Issue                     1.0000        American   \n14637                     NaN                        NaN        American   \n14638  Customer Service Issue                     0.6659        American   \n14639                     NaN                     0.0000        American   \n\n      airline_sentiment_gold             name negativereason_gold  \\\n0                        NaN          cairdin                 NaN   \n1                        NaN         jnardino                 NaN   \n2                        NaN       yvonnalynn                 NaN   \n3                        NaN         jnardino                 NaN   \n4                        NaN         jnardino                 NaN   \n5                        NaN         jnardino                 NaN   \n6                        NaN       cjmcginnis                 NaN   \n7                        NaN            pilot                 NaN   \n8                        NaN         dhepburn                 NaN   \n9                        NaN       YupitsTate                 NaN   \n10                       NaN  idk_but_youtube                 NaN   \n11                       NaN     HyperCamiLax                 NaN   \n12                       NaN     HyperCamiLax                 NaN   \n13                       NaN     mollanderson                 NaN   \n14                       NaN         sjespers                 NaN   \n15                       NaN  smartwatermelon                 NaN   \n16                       NaN    ItzBrianHunty                 NaN   \n17                       NaN    heatherovieda                 NaN   \n18                       NaN     thebrandiray                 NaN   \n19                       NaN        JNLpierce                 NaN   \n20                       NaN           MISSGJ                 NaN   \n21                       NaN           DT_Les                 NaN   \n22                       NaN       ElvinaBeck                 NaN   \n23                       NaN     rjlynch21086                 NaN   \n24                       NaN      ayeevickiee                 NaN   \n25                       NaN          Leora13                 NaN   \n26                       NaN    meredithjlynn                 NaN   \n27                       NaN       AdamSinger                 NaN   \n28                       NaN  blackjackpro911                 NaN   \n29                       NaN  TenantsUpstairs                 NaN   \n...                      ...              ...                 ...   \n14610                    NaN         Jess_JCW                 NaN   \n14611                    NaN      TrueChief77                 NaN   \n14612                    NaN    tcunningham10                 NaN   \n14613                    NaN     kiabeveridge                 NaN   \n14614                    NaN         GregPoos                 NaN   \n14615                    NaN       tim_sheehy                 NaN   \n14616                    NaN    TheJoshAbides                 NaN   \n14617                    NaN          iambmac                 NaN   \n14618                    NaN  A_for_AdNauseam                 NaN   \n14619                    NaN      howiemandel                 NaN   \n14620                    NaN         KCBobolz                 NaN   \n14621                    NaN      andyellwood                 NaN   \n14622                    NaN    Jill_Lynnette                 NaN   \n14623                    NaN   Flora_Lola_NYC                 NaN   \n14624                    NaN         yourlama                 NaN   \n14625                    NaN   DrCaseyJRudkin                 NaN   \n14626                    NaN       cataattack                 NaN   \n14627                    NaN   KristinaMeyer7                 NaN   \n14628                    NaN         jlhalldc                 NaN   \n14629                    NaN      jontgreen89                 NaN   \n14630                    NaN   Laurelinesblog                 NaN   \n14631                    NaN         MDDavis7                 NaN   \n14632                    NaN       Chad_SMFYM                 NaN   \n14633                    NaN  RussellsWriting                 NaN   \n14634                    NaN    GolfWithWoody                 NaN   \n14635                    NaN  KristenReenders                 NaN   \n14636                    NaN         itsropes                 NaN   \n14637                    NaN         sanyabun                 NaN   \n14638                    NaN       SraJackson                 NaN   \n14639                    NaN        daviddtwu                 NaN   \n\n       retweet_count                                               text  \\\n0                  0                @VirginAmerica What @dhepburn said.   \n1                  0  @VirginAmerica plus you've added commercials t...   \n2                  0  @VirginAmerica I didn't today... Must mean I n...   \n3                  0  @VirginAmerica it's really aggressive to blast...   \n4                  0  @VirginAmerica and it's a really big bad thing...   \n5                  0  @VirginAmerica seriously would pay $30 a fligh...   \n6                  0  @VirginAmerica yes, nearly every time I fly VX...   \n7                  0  @VirginAmerica Really missed a prime opportuni...   \n8                  0    @virginamerica Well, I didn't…but NOW I DO! :-D   \n9                  0  @VirginAmerica it was amazing, and arrived an ...   \n10                 0  @VirginAmerica did you know that suicide is th...   \n11                 0  @VirginAmerica I &lt;3 pretty graphics. so muc...   \n12                 0  @VirginAmerica This is such a great deal! Alre...   \n13                 0  @VirginAmerica @virginmedia I'm flying your #f...   \n14                 0                             @VirginAmerica Thanks!   \n15                 0      @VirginAmerica SFO-PDX schedule is still MIA.   \n16                 0  @VirginAmerica So excited for my first cross c...   \n17                 0  @VirginAmerica  I flew from NYC to SFO last we...   \n18                 0                    I ❤️ flying @VirginAmerica. ☺️👍   \n19                 0  @VirginAmerica you know what would be amazingl...   \n20                 0  @VirginAmerica why are your first fares in May...   \n21                 0  @VirginAmerica I love this graphic. http://t.c...   \n22                 0  @VirginAmerica I love the hipster innovation. ...   \n23                 0  @VirginAmerica will you be making BOS&gt;LAS n...   \n24                 0  @VirginAmerica you guys messed up my seating.....   \n25                 0  @VirginAmerica status match program.  I applie...   \n26                 0  @VirginAmerica What happened 2 ur vegan food o...   \n27                 0  @VirginAmerica do you miss me? Don't worry we'...   \n28                 0  @VirginAmerica amazing to me that we can't get...   \n29                 0  @VirginAmerica LAX to EWR - Middle seat on a r...   \n...              ...                                                ...   \n14610              0  @AmericanAir I understand the weather issue bu...   \n14611              0  @AmericanAir guarantee no retribution? If so, ...   \n14612              0  @AmericanAir a friend is having flight Cancell...   \n14613              0  @AmericanAir I used the \"call back\" feature wi...   \n14614              0  @AmericanAir I need to be at work tomorrow at ...   \n14615              0  @AmericanAir  ugh Dump us in dfw w/no luggage ...   \n14616              0  @AmericanAir Cancelled Flights my flight, does...   \n14617              0            @AmericanAir DMing you now! Big thanks.   \n14618              0  @AmericanAir 3078 is overweight so you pull 2 ...   \n14619              3  @AmericanAir I love your company and your staf...   \n14620              0  @AmericanAir I wait 2+ hrs for CS to call me b...   \n14621              0  @AmericanAir I've been on hold for 55 mins abo...   \n14622              0  I just need a place to sleep when I land witho...   \n14623              0  @AmericanAir Love the new planes for the JFK-L...   \n14624              0  @AmericanAir Call me Chairman, or call me Emer...   \n14625              0  @AmericanAir Flight 236 was great. Fantastic c...   \n14626              0  @AmericanAir Flight 953 NYC-Buenos Aires has b...   \n14627              0  @AmericanAir Flight Cancelled Flightled, can't...   \n14628              0  Thank you. “@AmericanAir: @jlhalldc Customer R...   \n14629              0  @AmericanAir How do I change my flight if the ...   \n14630              0                        @AmericanAir Thanks! He is.   \n14631              0  @AmericanAir thx for nothing on getting us out...   \n14632              0  “@AmericanAir: @TilleyMonsta George, that does...   \n14633              0  @AmericanAir my flight was Cancelled Flightled...   \n14634              0         @AmericanAir right on cue with the delays👌   \n14635              0  @AmericanAir thank you we got on a different f...   \n14636              0  @AmericanAir leaving over 20 minutes Late Flig...   \n14637              0  @AmericanAir Please bring American Airlines to...   \n14638              0  @AmericanAir you have my money, you change my ...   \n14639              0  @AmericanAir we have 8 ppl so we need 2 know h...   \n\n                       tweet_coord              tweet_created  \\\n0                              NaN  2015-02-24 11:35:52 -0800   \n1                              NaN  2015-02-24 11:15:59 -0800   \n2                              NaN  2015-02-24 11:15:48 -0800   \n3                              NaN  2015-02-24 11:15:36 -0800   \n4                              NaN  2015-02-24 11:14:45 -0800   \n5                              NaN  2015-02-24 11:14:33 -0800   \n6                              NaN  2015-02-24 11:13:57 -0800   \n7                              NaN  2015-02-24 11:12:29 -0800   \n8                              NaN  2015-02-24 11:11:19 -0800   \n9                              NaN  2015-02-24 10:53:27 -0800   \n10                             NaN  2015-02-24 10:48:24 -0800   \n11                             NaN  2015-02-24 10:30:40 -0800   \n12                             NaN  2015-02-24 10:30:06 -0800   \n13                             NaN  2015-02-24 10:21:28 -0800   \n14                             NaN  2015-02-24 10:15:29 -0800   \n15                             NaN  2015-02-24 10:01:50 -0800   \n16                             NaN  2015-02-24 09:42:59 -0800   \n17                             NaN  2015-02-24 09:39:46 -0800   \n18                             NaN  2015-02-24 09:15:00 -0800   \n19                             NaN  2015-02-24 09:04:10 -0800   \n20                             NaN  2015-02-24 08:55:56 -0800   \n21     [40.74804263, -73.99295302]  2015-02-24 08:49:01 -0800   \n22                             NaN  2015-02-24 08:30:15 -0800   \n23                             NaN  2015-02-24 08:27:52 -0800   \n24                             NaN  2015-02-24 08:18:51 -0800   \n25                             NaN  2015-02-24 07:49:15 -0800   \n26                             NaN  2015-02-24 07:11:37 -0800   \n27                             NaN  2015-02-24 05:44:59 -0800   \n28       [42.361016, -71.02000488]  2015-02-24 05:05:28 -0800   \n29     [33.94540417, -118.4062472]  2015-02-23 23:34:30 -0800   \n...                            ...                        ...   \n14610                          NaN  2015-02-22 12:17:14 -0800   \n14611                          NaN  2015-02-22 12:17:05 -0800   \n14612  [40.46692522, -82.64567078]  2015-02-22 12:16:58 -0800   \n14613                          NaN  2015-02-22 12:16:47 -0800   \n14614                          NaN  2015-02-22 12:16:20 -0800   \n14615                          NaN  2015-02-22 12:16:18 -0800   \n14616                          NaN  2015-02-22 12:15:45 -0800   \n14617                          NaN  2015-02-22 12:15:19 -0800   \n14618                          NaN  2015-02-22 12:14:44 -0800   \n14619                          NaN  2015-02-22 12:14:08 -0800   \n14620                          NaN  2015-02-22 12:14:03 -0800   \n14621                          NaN  2015-02-22 12:13:45 -0800   \n14622                          NaN  2015-02-22 12:10:58 -0800   \n14623                          NaN  2015-02-22 12:10:16 -0800   \n14624   [32.9070889, -97.03785947]  2015-02-22 12:10:03 -0800   \n14625  [40.64946781, -73.76624703]  2015-02-22 12:08:48 -0800   \n14626                          NaN  2015-02-22 12:08:04 -0800   \n14627                          NaN  2015-02-22 12:05:30 -0800   \n14628                          NaN  2015-02-22 12:04:51 -0800   \n14629                          NaN  2015-02-22 12:04:37 -0800   \n14630                          NaN  2015-02-22 12:04:09 -0800   \n14631                          NaN  2015-02-22 12:04:07 -0800   \n14632                          NaN  2015-02-22 12:01:31 -0800   \n14633                          NaN  2015-02-22 12:01:06 -0800   \n14634                          NaN  2015-02-22 12:01:02 -0800   \n14635                          NaN  2015-02-22 12:01:01 -0800   \n14636                          NaN  2015-02-22 11:59:46 -0800   \n14637                          NaN  2015-02-22 11:59:15 -0800   \n14638                          NaN  2015-02-22 11:59:02 -0800   \n14639                          NaN  2015-02-22 11:58:51 -0800   \n\n                      tweet_location                user_timezone  \n0                                NaN   Eastern Time (US & Canada)  \n1                                NaN   Pacific Time (US & Canada)  \n2                          Lets Play   Central Time (US & Canada)  \n3                                NaN   Pacific Time (US & Canada)  \n4                                NaN   Pacific Time (US & Canada)  \n5                                NaN   Pacific Time (US & Canada)  \n6                   San Francisco CA   Pacific Time (US & Canada)  \n7                        Los Angeles   Pacific Time (US & Canada)  \n8                          San Diego   Pacific Time (US & Canada)  \n9                        Los Angeles   Eastern Time (US & Canada)  \n10                   1/1 loner squad   Eastern Time (US & Canada)  \n11                               NYC             America/New_York  \n12                               NYC             America/New_York  \n13                               NaN   Eastern Time (US & Canada)  \n14                 San Francisco, CA   Pacific Time (US & Canada)  \n15                     palo alto, ca   Pacific Time (US & Canada)  \n16                       west covina   Pacific Time (US & Canada)  \n17             this place called NYC   Eastern Time (US & Canada)  \n18      Somewhere celebrating life.        Atlantic Time (Canada)  \n19                  Boston | Waltham                        Quito  \n20                               NaN                          NaN  \n21                               NaN                          NaN  \n22                       Los Angeles   Pacific Time (US & Canada)  \n23                       Boston, MA    Eastern Time (US & Canada)  \n24                               714  Mountain Time (US & Canada)  \n25                               NaN                          NaN  \n26                               NaN                          NaN  \n27                 San Francisco, CA   Central Time (US & Canada)  \n28     San Mateo, CA & Las Vegas, NV                          NaN  \n29                          Brooklyn       Atlantic Time (Canada)  \n...                              ...                          ...  \n14610                         London                       London  \n14611                   970 Colorado                          NaN  \n14612                   Central Ohio   Eastern Time (US & Canada)  \n14613                        Chicago  Mountain Time (US & Canada)  \n14614                            NaN                          NaN  \n14615                  Washington DC   Central Time (US & Canada)  \n14616                  New York City   Eastern Time (US & Canada)  \n14617              Columbus, OH, USA   Eastern Time (US & Canada)  \n14618                            NaN                          NaN  \n14619                            NaN   Pacific Time (US & Canada)  \n14620    Milwaukee County, Wisconsin   Central Time (US & Canada)  \n14621             New York, New York   Eastern Time (US & Canada)  \n14622                            NaN   Eastern Time (US & Canada)  \n14623                            NaN   Eastern Time (US & Canada)  \n14624                            NaN                          NaN  \n14625                     East Coast                          NaN  \n14626        Buenos Aires, Argentina                 Buenos Aires  \n14627                            NaN   Eastern Time (US & Canada)  \n14628                 Washington, DC   Eastern Time (US & Canada)  \n14629                       Waco, TX   Central Time (US & Canada)  \n14630                Chapel Hill, NC                          NaN  \n14631                             US   Eastern Time (US & Canada)  \n14632                            NaN   Central Time (US & Canada)  \n14633                    Los Angeles                      Arizona  \n14634                            NaN                        Quito  \n14635                            NaN                          NaN  \n14636                          Texas                          NaN  \n14637                  Nigeria,lagos                          NaN  \n14638                     New Jersey   Eastern Time (US & Canada)  \n14639                     dallas, TX                          NaN  \n\n[14640 rows x 15 columns]\n",
          "name": "stdout"
        }
      ]
    },
    {
      "metadata": {
        "trusted": true
      },
      "cell_type": "code",
      "source": "data = data[data.airline_sentiment != \"neutral\"] #remove samples with label neutral as we want only positive or negative\ndata['text'] = data['text'].apply(lambda x: x.lower()) #convert text to lowecase\ndata['text'] = data['text'].apply((lambda x: re.sub('[^a-zA-z0-9\\s]','',x))) #remove punctuations, special symbols and emojis\n\n#data[\"sentiment\"]= data[\"sentiment\"].replace(\"1\", \"positive\") \n#data[\"sentiment\"]= data[\"sentiment\"].replace(\"0\", \"negative\") \n\nprint(data[ data['airline_sentiment'] == 'positive'].size) #counts number of positive example\nprint(data[ data['airline_sentiment'] == 'negative'].size)\nfor idx,row in data.iterrows():\n    row[0] = row[0].replace('rt',' ')\n    \nmax_features = 5000 #maximum number of entries in dictionary built by tokenizer\ntokenizer = Tokenizer(num_words=max_features, split=' ') #split data\ntokenizer.fit_on_texts(data['text'].values)\nX = tokenizer.texts_to_sequences(data['text'].values) #convert sentences to vector form\nX = pad_sequences(X) #make all vectors of equal length",
      "execution_count": 3,
      "outputs": [
        {
          "output_type": "stream",
          "text": "4726\n18356\n",
          "name": "stdout"
        }
      ]
    },
    {
      "metadata": {
        "trusted": true
      },
      "cell_type": "code",
      "source": "print(X.shape)",
      "execution_count": 4,
      "outputs": [
        {
          "output_type": "stream",
          "text": "(11541, 33)\n",
          "name": "stdout"
        }
      ]
    },
    {
      "metadata": {
        "trusted": true
      },
      "cell_type": "code",
      "source": "#build model\nembed_dim = 128\nlstm_out = 196\n\nmodel = Sequential() #create model\nmodel.add(Embedding(max_features, embed_dim,input_length = X.shape[1]))\nmodel.add(SpatialDropout1D(0.4)) #drops 40% nodes\nmodel.add(LSTM(lstm_out, dropout=0.2, recurrent_dropout=0.2)) #LSTM layer\nmodel.add(Dense(2,activation='softmax'))  # for classification\nmodel.compile(loss = 'categorical_crossentropy', optimizer='adam',metrics = ['accuracy']) #compile model\nprint(model.summary())",
      "execution_count": 5,
      "outputs": [
        {
          "output_type": "stream",
          "text": "_________________________________________________________________\nLayer (type)                 Output Shape              Param #   \n=================================================================\nembedding_1 (Embedding)      (None, 33, 128)           640000    \n_________________________________________________________________\nspatial_dropout1d_1 (Spatial (None, 33, 128)           0         \n_________________________________________________________________\nlstm_1 (LSTM)                (None, 196)               254800    \n_________________________________________________________________\ndense_1 (Dense)              (None, 2)                 394       \n=================================================================\nTotal params: 895,194\nTrainable params: 895,194\nNon-trainable params: 0\n_________________________________________________________________\nNone\n",
          "name": "stdout"
        }
      ]
    },
    {
      "metadata": {
        "trusted": true
      },
      "cell_type": "code",
      "source": "Y = pd.get_dummies(data['airline_sentiment']).values #connvert categorical labels to vector form\nX_train, X_test, Y_train, Y_test = train_test_split(X,Y, test_size = 0.33, random_state = 42) #split train and test data\nprint(X_train.shape,Y_train.shape)\nprint(X_test.shape,Y_test.shape)",
      "execution_count": 6,
      "outputs": [
        {
          "output_type": "stream",
          "text": "(7732, 33) (7732, 2)\n(3809, 33) (3809, 2)\n",
          "name": "stdout"
        }
      ]
    },
    {
      "metadata": {
        "trusted": true
      },
      "cell_type": "code",
      "source": "batch_size = 32\nmodel.fit(X_train, Y_train, epochs = 10, batch_size=batch_size, verbose = 1) #fit model",
      "execution_count": 7,
      "outputs": [
        {
          "output_type": "stream",
          "text": "Epoch 1/10\n7732/7732 [==============================] - 59s 8ms/step - loss: 0.3334 - acc: 0.8619\nEpoch 2/10\n7732/7732 [==============================] - 52s 7ms/step - loss: 0.1795 - acc: 0.9325\nEpoch 3/10\n7732/7732 [==============================] - 62s 8ms/step - loss: 0.1257 - acc: 0.9519\nEpoch 4/10\n7732/7732 [==============================] - 59s 8ms/step - loss: 0.0894 - acc: 0.9665\nEpoch 5/10\n7732/7732 [==============================] - 55s 7ms/step - loss: 0.0697 - acc: 0.9732\nEpoch 6/10\n7732/7732 [==============================] - 63s 8ms/step - loss: 0.0543 - acc: 0.9828\nEpoch 7/10\n7732/7732 [==============================] - 48s 6ms/step - loss: 0.0400 - acc: 0.9846\nEpoch 8/10\n7732/7732 [==============================] - 50s 6ms/step - loss: 0.0367 - acc: 0.9867\nEpoch 9/10\n7732/7732 [==============================] - 51s 7ms/step - loss: 0.0337 - acc: 0.9881\nEpoch 10/10\n7732/7732 [==============================] - 56s 7ms/step - loss: 0.0265 - acc: 0.9909\n",
          "name": "stdout"
        },
        {
          "output_type": "execute_result",
          "execution_count": 7,
          "data": {
            "text/plain": "<keras.callbacks.History at 0x7fb775cb40b8>"
          },
          "metadata": {}
        }
      ]
    },
    {
      "metadata": {
        "trusted": true
      },
      "cell_type": "code",
      "source": "#Evaluate model\nvalidation_size = 500\n\nX_validate = X_test[-validation_size:]\nY_validate = Y_test[-validation_size:]\nX_test = X_test[:-validation_size]\nY_test = Y_test[:-validation_size]\nscore,acc = model.evaluate(X_test, Y_test, verbose = 1, batch_size = batch_size)\nprint(\"score: %.4f\" % (score))\nprint(\"Accuracy: %.4f\" % (acc))",
      "execution_count": 8,
      "outputs": [
        {
          "output_type": "stream",
          "text": "3309/3309 [==============================] - 6s 2ms/step\nscore: 0.4628\nAccuracy: 0.9178\n",
          "name": "stdout"
        }
      ]
    },
    {
      "metadata": {
        "trusted": true
      },
      "cell_type": "code",
      "source": "#compute specificity, sencitivity, precision, recall and F1-score\npos_cnt, neg_cnt, pos_correct, neg_correct, pos_incorrect, neg_incorrect = 0, 0, 0, 0, 0, 0\nfor x in range(len(X_validate)):\n    \n    result = model.predict(X_validate[x].reshape(1,X_test.shape[1]),batch_size=1,verbose = 2)[0]\n   \n    if np.argmax(result) == np.argmax(Y_validate[x]): #checks whether example is correctly classified\n        if np.argmax(Y_validate[x]) == 0: #checks if examples was classified as negative\n            neg_correct += 1\n        else:\n            pos_correct += 1\n            \n    else:\n        if np.argmax(Y_validate[x]) == 0:\n            neg_incorrect += 1\n        else:\n            neg_incorrect += 1\n       \n    if np.argmax(Y_validate[x]) == 0:\n        neg_cnt += 1\n    else:\n        pos_cnt += 1\n\nsensitivity = pos_correct/pos_cnt\nspecificity = neg_correct/neg_cnt\nprecision = pos_correct/(pos_correct + pos_incorrect)\nrecall = sensitivity\nf1 = (2 * precision * recall) / (precision + recall)\n\nprint(\"true positive rate: %.4f\" %(sensitivity) )\nprint(\"true negative rate: %.4f\" %(specificity) )\nprint(\"precision: %.4f\" %(precision))\nprint(\"recall: %.4f\" %(recall))\nprint(\"f1-score: %.4f\" %(f1))",
      "execution_count": 9,
      "outputs": [
        {
          "output_type": "stream",
          "text": "true positive rate: 0.7627\ntrue negative rate: 0.9712\nprecision: 1.0000\nrecall: 0.7627\nf1-score: 0.8654\n",
          "name": "stdout"
        }
      ]
    },
    {
      "metadata": {
        "trusted": true
      },
      "cell_type": "code",
      "source": "#predict sentiment of random example\ntwt = ['Meetings: Because none of us is as dumb as all of us.']\n#vectorizing the tweet by the pre-fitted tokenizer instance\ntwt = tokenizer.texts_to_sequences(twt)\n#padding the tweet to have exactly the same shape as `embedding_2` input\ntwt = pad_sequences(twt, maxlen=33, dtype='int32', value=0)\nprint(twt)\nsentiment = model.predict(twt,batch_size=1,verbose = 2)[0]\nif(np.argmax(sentiment) == 0):\n    print(\"negative\")\nelif (np.argmax(sentiment) == 1):\n    print(\"positive\")",
      "execution_count": 10,
      "outputs": [
        {
          "output_type": "stream",
          "text": "[[   0    0    0    0    0    0    0    0    0    0    0    0    0    0\n     0    0    0    0    0    0    0 1816  110  937   17   56   14   87\n  1860   87   58   17   56]]\nnegative\n",
          "name": "stdout"
        }
      ]
    },
    {
      "metadata": {
        "trusted": true
      },
      "cell_type": "code",
      "source": "",
      "execution_count": null,
      "outputs": []
    }
  ],
  "metadata": {
    "kernelspec": {
      "name": "python36",
      "display_name": "Python 3.6",
      "language": "python"
    },
    "language_info": {
      "mimetype": "text/x-python",
      "nbconvert_exporter": "python",
      "name": "python",
      "pygments_lexer": "ipython3",
      "version": "3.6.6",
      "file_extension": ".py",
      "codemirror_mode": {
        "version": 3,
        "name": "ipython"
      }
    }
  },
  "nbformat": 4,
  "nbformat_minor": 2
}